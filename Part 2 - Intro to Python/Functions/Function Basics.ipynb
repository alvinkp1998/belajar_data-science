{
 "cells": [
  {
   "cell_type": "markdown",
   "metadata": {},
   "source": [
    "# Basic Function "
   ]
  },
  {
   "cell_type": "code",
   "execution_count": 19,
   "metadata": {},
   "outputs": [
    {
     "name": "stdout",
     "output_type": "stream",
     "text": [
      "nama saya naufal\n"
     ]
    }
   ],
   "source": [
    "# print merupakan salah satu contoh function bawaan dari python\n",
    "print(\"nama saya naufal\")"
   ]
  },
  {
   "cell_type": "markdown",
   "metadata": {},
   "source": [
    "> Kita bisa membuat fungsi sendiri dengan menggunakan **def** kemudian diikuti oleh **nama fungsi** dan diberi tanda buka kurung - tutup kurung dimana didalam nya berisikan parameter atau input fungsi tersebut."
   ]
  },
  {
   "cell_type": "code",
   "execution_count": 16,
   "metadata": {},
   "outputs": [],
   "source": [
    "# membuat fungsi penjumlahan sederhana dengan 2 input\n",
    "def add(x, y):\n",
    "    return x + y # return digunakan untuk menyimpan hasil dari function, jika kita menggunakan print maka nilai tidak tersimpan"
   ]
  },
  {
   "cell_type": "code",
   "execution_count": 7,
   "metadata": {},
   "outputs": [
    {
     "name": "stdout",
     "output_type": "stream",
     "text": [
      "6\n"
     ]
    }
   ],
   "source": [
    "add(5, 1)"
   ]
  },
  {
   "cell_type": "code",
   "execution_count": 17,
   "metadata": {},
   "outputs": [],
   "source": [
    "x = add(5, 1)"
   ]
  },
  {
   "cell_type": "code",
   "execution_count": 18,
   "metadata": {
    "scrolled": false
   },
   "outputs": [
    {
     "data": {
      "text/plain": [
       "6"
      ]
     },
     "execution_count": 18,
     "metadata": {},
     "output_type": "execute_result"
    }
   ],
   "source": [
    "x"
   ]
  },
  {
   "cell_type": "code",
   "execution_count": 23,
   "metadata": {},
   "outputs": [],
   "source": [
    "# penting untuk mengetahui case-case yang mungkin terjadi ketika membuat fungsi sendiri \n",
    "# disini kita menggunakan conditional untuk meng-handle case tersebut\n",
    "def divide(numerator, denominator):\n",
    "    if denominator != 0:\n",
    "        return numerator / denominator\n",
    "    elif denominator == 0:\n",
    "        print('Tidak bisa dibagi, undefined')"
   ]
  },
  {
   "cell_type": "code",
   "execution_count": 25,
   "metadata": {},
   "outputs": [
    {
     "name": "stdout",
     "output_type": "stream",
     "text": [
      "Tidak bisa dibagi, undefined\n"
     ]
    }
   ],
   "source": [
    "divide(1, 0)"
   ]
  },
  {
   "cell_type": "code",
   "execution_count": 28,
   "metadata": {},
   "outputs": [],
   "source": [
    "# memberikan dokumentasi sangat penting, khususnya jika fungsi yang kita buat cukup panjang dan membutuhkan\n",
    "# beberapa input. Hal ini akan memudahkan kita dan juga orang lain dalam membaca code\n",
    "\n",
    "# untuk membuat dokumentasi, gunakan tanda \" sebanyak 3 kali diawal dan juga tanda yang sama sebanyak 3 diakhir\n",
    "def print_name(nama):\n",
    "    \"\"\" \n",
    "    this function is print to someone's name\n",
    "    \n",
    "    Parameters\n",
    "    ----------\n",
    "    nama: str\n",
    "        this input require a string\n",
    "        \n",
    "    Result\n",
    "    ------\n",
    "    Nama saya adalah {nama}\n",
    "    \"\"\"\n",
    "    return f\"nama saya adalah {nama}\""
   ]
  },
  {
   "cell_type": "code",
   "execution_count": null,
   "metadata": {},
   "outputs": [],
   "source": [
    "# kita bisa mengetahui detil dari dokumentasi dengan menekan shift+tab\n",
    "print_name()"
   ]
  },
  {
   "cell_type": "code",
   "execution_count": 27,
   "metadata": {},
   "outputs": [
    {
     "data": {
      "text/plain": [
       "'nama saya adalah naufal'"
      ]
     },
     "execution_count": 27,
     "metadata": {},
     "output_type": "execute_result"
    }
   ],
   "source": [
    "print_name('naufal')"
   ]
  },
  {
   "cell_type": "markdown",
   "metadata": {},
   "source": [
    "# Args "
   ]
  },
  {
   "cell_type": "markdown",
   "metadata": {},
   "source": [
    "> Args merupakan input parameter pada fungsi yang bersifat bebas diisi apapun dan seakan-akan bersifat seperti list sehingga bisa kita iterasi. Menggunakan Args memberikan kita fleksibilitas dalam memberikan input."
   ]
  },
  {
   "cell_type": "code",
   "execution_count": 20,
   "metadata": {},
   "outputs": [],
   "source": [
    "def add(*args):\n",
    "    total = 0\n",
    "    for number in args:\n",
    "        total = total + number\n",
    "    return total"
   ]
  },
  {
   "cell_type": "code",
   "execution_count": 22,
   "metadata": {},
   "outputs": [
    {
     "data": {
      "text/plain": [
       "21"
      ]
     },
     "execution_count": 22,
     "metadata": {},
     "output_type": "execute_result"
    }
   ],
   "source": [
    "add(1, 2, 3, 4, 5, 6)"
   ]
  },
  {
   "cell_type": "markdown",
   "metadata": {},
   "source": [
    "total = 0<br>\n",
    "total = 0 + 1 = 1<br>\n",
    "total = 1 + 2 = 3<br>\n",
    "..."
   ]
  },
  {
   "cell_type": "markdown",
   "metadata": {},
   "source": [
    "# Anonymous Function "
   ]
  },
  {
   "cell_type": "markdown",
   "metadata": {},
   "source": [
    "> Cara lain membuat fungsi adalah dengan menggunakan anonymous function atau **lambda function**. Lambda function baik digunakan untuk fungsi-fungsi yang jarang dipanggil sehingga tidak mengkonsumsi memori pada PC/laptop."
   ]
  },
  {
   "cell_type": "code",
   "execution_count": 52,
   "metadata": {},
   "outputs": [],
   "source": [
    "def double(x): return x**3 "
   ]
  },
  {
   "cell_type": "code",
   "execution_count": 53,
   "metadata": {},
   "outputs": [],
   "source": [
    "a = double(15)"
   ]
  },
  {
   "cell_type": "code",
   "execution_count": 54,
   "metadata": {},
   "outputs": [
    {
     "data": {
      "text/plain": [
       "3375"
      ]
     },
     "execution_count": 54,
     "metadata": {},
     "output_type": "execute_result"
    }
   ],
   "source": [
    "a"
   ]
  },
  {
   "cell_type": "code",
   "execution_count": 55,
   "metadata": {},
   "outputs": [],
   "source": [
    "def math_operation(x, y):\n",
    "    return (x**3) + (y**2) + 5"
   ]
  },
  {
   "cell_type": "code",
   "execution_count": 56,
   "metadata": {},
   "outputs": [
    {
     "data": {
      "text/plain": [
       "78"
      ]
     },
     "execution_count": 56,
     "metadata": {},
     "output_type": "execute_result"
    }
   ],
   "source": [
    "math_operation(4, 3)"
   ]
  },
  {
   "cell_type": "code",
   "execution_count": 33,
   "metadata": {},
   "outputs": [],
   "source": [
    "double_anon = lambda x: 2*x"
   ]
  },
  {
   "cell_type": "code",
   "execution_count": 34,
   "metadata": {},
   "outputs": [
    {
     "data": {
      "text/plain": [
       "10"
      ]
     },
     "execution_count": 34,
     "metadata": {},
     "output_type": "execute_result"
    }
   ],
   "source": [
    "double_anon(5)"
   ]
  }
 ],
 "metadata": {
  "kernelspec": {
   "display_name": "Python [conda env:jlml]",
   "language": "python",
   "name": "conda-env-jlml-py"
  },
  "language_info": {
   "codemirror_mode": {
    "name": "ipython",
    "version": 3
   },
   "file_extension": ".py",
   "mimetype": "text/x-python",
   "name": "python",
   "nbconvert_exporter": "python",
   "pygments_lexer": "ipython3",
   "version": "3.7.6"
  }
 },
 "nbformat": 4,
 "nbformat_minor": 4
}
