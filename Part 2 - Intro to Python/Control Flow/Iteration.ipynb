{
 "cells": [
  {
   "cell_type": "markdown",
   "metadata": {},
   "source": [
    "# For loop in list "
   ]
  },
  {
   "cell_type": "markdown",
   "metadata": {},
   "source": [
    "> For loop adalah sebuah iterasi yang dilakukan pada setiap data yang terdapat pada list, dictionary atau tipe data lainnya"
   ]
  },
  {
   "cell_type": "code",
   "execution_count": 2,
   "metadata": {},
   "outputs": [],
   "source": [
    "names = ['cakra', 'luthfan', 'ayyub']"
   ]
  },
  {
   "cell_type": "code",
   "execution_count": 3,
   "metadata": {},
   "outputs": [
    {
     "name": "stdout",
     "output_type": "stream",
     "text": [
      "cakra\n",
      "luthfan\n",
      "ayyub\n"
     ]
    }
   ],
   "source": [
    "# iterasi per-data di dalam variable names\n",
    "for name in names:\n",
    "    print(name)"
   ]
  },
  {
   "cell_type": "code",
   "execution_count": 4,
   "metadata": {},
   "outputs": [
    {
     "name": "stdout",
     "output_type": "stream",
     "text": [
      "3\n",
      "range(0, 3)\n"
     ]
    }
   ],
   "source": [
    "# len() akan mengeluarkan total data yang ada sedangkan range() akan mengeluarkan nilai inclusive exclusive\n",
    "print(len(names))\n",
    "print(range(len(names)))"
   ]
  },
  {
   "cell_type": "code",
   "execution_count": 5,
   "metadata": {},
   "outputs": [
    {
     "name": "stdout",
     "output_type": "stream",
     "text": [
      "0\n",
      "1\n",
      "2\n"
     ]
    }
   ],
   "source": [
    "# (0, 3) pada range maksudnya adalah nilai dimulai dari 0 hingga 3 tetapi 3 tidak masuk karena **exlusive** \n",
    "# sehingga jika kita for loop range(0,3) hasilnya adalah 0, 1, 2.\n",
    "for i in range(0,3):\n",
    "    print(i)"
   ]
  },
  {
   "cell_type": "code",
   "execution_count": 7,
   "metadata": {},
   "outputs": [
    {
     "name": "stdout",
     "output_type": "stream",
     "text": [
      "cakra\n",
      "luthfan\n",
      "ayyub\n"
     ]
    }
   ],
   "source": [
    "for i in range(len(names)):\n",
    "    print(names[i]) # menggunakan i untuk mengakses data names pada index tertentu "
   ]
  },
  {
   "cell_type": "markdown",
   "metadata": {},
   "source": [
    "# For loop in dictionary "
   ]
  },
  {
   "cell_type": "code",
   "execution_count": 6,
   "metadata": {},
   "outputs": [],
   "source": [
    "student_score = {\n",
    "    \"cakra\": 85,\n",
    "    \"luthfan\": 90\n",
    "}"
   ]
  },
  {
   "cell_type": "code",
   "execution_count": 7,
   "metadata": {},
   "outputs": [
    {
     "data": {
      "text/plain": [
       "dict_items([('cakra', 85), ('luthfan', 90)])"
      ]
     },
     "execution_count": 7,
     "metadata": {},
     "output_type": "execute_result"
    }
   ],
   "source": [
    "student_score.items()"
   ]
  },
  {
   "cell_type": "markdown",
   "metadata": {},
   "source": [
    "student_score.items() mengeluarkan data berupa pasangan key-value pair seperti contoh diatas, sehingga ketika kita iterasi yang terjadi adalah kita mendapatkan 2 data yaitu key dan value. key dan value kemudian disimpan kedalam variabel berikut:\n",
    "- key -> name\n",
    "- value -> score"
   ]
  },
  {
   "cell_type": "code",
   "execution_count": 16,
   "metadata": {},
   "outputs": [
    {
     "name": "stdout",
     "output_type": "stream",
     "text": [
      "cakra punya skor sebesar 85\n",
      "luthfan punya skor sebesar 90\n"
     ]
    }
   ],
   "source": [
    "for name, score in student_score.items():\n",
    "    print(f'{name} punya skor sebesar {score}')"
   ]
  },
  {
   "cell_type": "code",
   "execution_count": 17,
   "metadata": {},
   "outputs": [],
   "source": [
    "friends = [\n",
    "    {'name': 'cakra', 'score': 85},\n",
    "    {'name': 'luthfan', 'score': 90}\n",
    "]"
   ]
  },
  {
   "cell_type": "code",
   "execution_count": 24,
   "metadata": {},
   "outputs": [
    {
     "name": "stdout",
     "output_type": "stream",
     "text": [
      "{'name': 'cakra', 'score': 85}\n",
      "{'name': 'luthfan', 'score': 90}\n"
     ]
    }
   ],
   "source": [
    "for friend in friends:\n",
    "    print(friend)"
   ]
  },
  {
   "cell_type": "code",
   "execution_count": 23,
   "metadata": {},
   "outputs": [
    {
     "name": "stdout",
     "output_type": "stream",
     "text": [
      "cakra punya skor sebesar 85\n",
      "luthfan punya skor sebesar 90\n"
     ]
    }
   ],
   "source": [
    "for friend in friends: # iterasi data per row\n",
    "    name = friend['name'] # akses value dari key 'name'\n",
    "    score = friend['score'] # akses value dari key 'score'\n",
    "    print(f'{name} punya skor sebesar {score}')"
   ]
  },
  {
   "cell_type": "markdown",
   "metadata": {},
   "source": [
    "# List Comprehension "
   ]
  },
  {
   "cell_type": "markdown",
   "metadata": {},
   "source": [
    "> List comprehension merupakan salah satu metode lain untuk mendapatkan sebuah list dengan code yang lebih ringkas dengan kecepatan execute yang lebih cepat. Lebih direkomendasikan menggunakan list comprehension jika logic-nya simpel sehingga memudahkan orang lain membaca code."
   ]
  },
  {
   "cell_type": "code",
   "execution_count": null,
   "metadata": {},
   "outputs": [],
   "source": [
    "angka = [1, 2, 3, 4]"
   ]
  },
  {
   "cell_type": "code",
   "execution_count": 5,
   "metadata": {},
   "outputs": [
    {
     "name": "stdout",
     "output_type": "stream",
     "text": [
      "1.15 µs ± 33.1 ns per loop (mean ± std. dev. of 7 runs, 1000000 loops each)\n"
     ]
    }
   ],
   "source": [
    "# %%timeit bisa digunakan untuk melihat kecepatan atau performa code saat di execute\n",
    "%%timeit\n",
    "# memasukkan data ke variabel hasil menggunakan for loop biasa\n",
    "hasil = []\n",
    "for a in angka:\n",
    "    result = a**2\n",
    "    hasil.append(result)"
   ]
  },
  {
   "cell_type": "code",
   "execution_count": 2,
   "metadata": {},
   "outputs": [
    {
     "data": {
      "text/plain": [
       "[1, 4, 9, 16]"
      ]
     },
     "execution_count": 2,
     "metadata": {},
     "output_type": "execute_result"
    }
   ],
   "source": [
    "hasil"
   ]
  },
  {
   "cell_type": "code",
   "execution_count": 7,
   "metadata": {},
   "outputs": [
    {
     "name": "stdout",
     "output_type": "stream",
     "text": [
      "1.16 µs ± 49.2 ns per loop (mean ± std. dev. of 7 runs, 1000000 loops each)\n"
     ]
    }
   ],
   "source": [
    "%%timeit\n",
    "# memasukkan data ke variabel hasil menggunakan list comprehension\n",
    "hasil = [a**2 for a in angka]"
   ]
  }
 ],
 "metadata": {
  "kernelspec": {
   "display_name": "Python [conda env:jlml]",
   "language": "python",
   "name": "conda-env-jlml-py"
  },
  "language_info": {
   "codemirror_mode": {
    "name": "ipython",
    "version": 3
   },
   "file_extension": ".py",
   "mimetype": "text/x-python",
   "name": "python",
   "nbconvert_exporter": "python",
   "pygments_lexer": "ipython3",
   "version": "3.7.6"
  }
 },
 "nbformat": 4,
 "nbformat_minor": 4
}
