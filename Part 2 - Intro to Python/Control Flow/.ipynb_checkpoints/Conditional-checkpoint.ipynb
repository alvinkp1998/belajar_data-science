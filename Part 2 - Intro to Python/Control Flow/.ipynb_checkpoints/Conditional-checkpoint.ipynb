{
 "cells": [
  {
   "cell_type": "markdown",
   "metadata": {},
   "source": [
    "> Pada conditional, kita memberikan sebuah keadaan untuk dapat melakukan sebuah tindakan. Pada notebook ini kita belajar menggunakan `if`, `elif` dan `else`. \n",
    "\n",
    "> Keadaan pertama yang muncul adalah `if`, jika `if` tidak terpenuhi kita bisa memberikan `elif` kalau ada kondisi tertentu yang ingin dicapai atau kita bisa menggunakan `else` jika tidak ada lagi kondisi yang ingin dicapai."
   ]
  },
  {
   "cell_type": "code",
   "execution_count": 1,
   "metadata": {},
   "outputs": [],
   "source": [
    "hari = 'Kamis'"
   ]
  },
  {
   "cell_type": "code",
   "execution_count": 3,
   "metadata": {},
   "outputs": [
    {
     "name": "stdout",
     "output_type": "stream",
     "text": [
      "Salah\n"
     ]
    }
   ],
   "source": [
    "# jika value pada variabel hari adalah kamis maka print Betul, jika tidak maka print Salah\n",
    "if hari == 'kamis':\n",
    "    print('Betul')\n",
    "else:\n",
    "    print('Salah')"
   ]
  },
  {
   "cell_type": "code",
   "execution_count": 6,
   "metadata": {
    "scrolled": true
   },
   "outputs": [
    {
     "name": "stdout",
     "output_type": "stream",
     "text": [
      "Hari ini hari apa ya?rabu\n",
      "Meeting mingguan nih\n"
     ]
    }
   ],
   "source": [
    "# data input disimpan pada variabel day\n",
    "day = input('Hari ini hari apa ya?')\n",
    "\n",
    "if day == 'senin': # jika value dari variabel day adalah senin maka print Ok saatnya bekerja\n",
    "    print('Ok saatnya bekerja!')\n",
    "elif day == 'jumat': # jika value dari variabel day adalah jumat maka print Asik udah mau libur\n",
    "    print('Asik udah mau libur')\n",
    "elif day == 'rabu': # jika value dari variabel day adalah rabu maka print meeting mingguan nih\n",
    "    print('Meeting mingguan nih')\n",
    "else: # jika value dari variabel day selain senin, rabu dan jumat\n",
    "    print('Kerja terus!')"
   ]
  },
  {
   "cell_type": "code",
   "execution_count": 13,
   "metadata": {},
   "outputs": [
    {
     "name": "stdout",
     "output_type": "stream",
     "text": [
      "Pencet y jika kamu ingin bermain: y\n",
      "Berapakah angka yang tepat? 7\n",
      "Siapakah nama admin? naufal\n",
      "You finish!\n"
     ]
    }
   ],
   "source": [
    "number = 7                                                   # number adalah variabel jawaban pada kuis dibawah\n",
    "user_input = input(\"Pencet y jika kamu ingin bermain: \")     \n",
    "if user_input == 'y':                                        # jika user_input adalah y, maka lanjutkan kuis\n",
    "    user_number = int(input('Berapakah angka yang tepat? '))\n",
    "    if user_number == number:                                # jika tebakan angka tepat, tanyakan nama admin\n",
    "        user_name = input('Siapakah nama admin? ')\n",
    "        if user_name == 'naufal':                            # jika nama admin adalah naufal, print you finish\n",
    "            print('You finish!')\n",
    "        else:                                                # jika nama admin bukan naufal, print you lose\n",
    "            print('You lose')\n",
    "#         print(\"Ok jawaban kamu benar\")\n",
    "#     elif abs(user_number - number) == 1:\n",
    "#         print(\"Jawaban kamu hampir benar\")\n",
    "#     else:\n",
    "#         print(\"Jawaban kamu kurang tepat\")"
   ]
  }
 ],
 "metadata": {
  "kernelspec": {
   "display_name": "Python [conda env:jlml]",
   "language": "python",
   "name": "conda-env-jlml-py"
  },
  "language_info": {
   "codemirror_mode": {
    "name": "ipython",
    "version": 3
   },
   "file_extension": ".py",
   "mimetype": "text/x-python",
   "name": "python",
   "nbconvert_exporter": "python",
   "pygments_lexer": "ipython3",
   "version": "3.7.6"
  }
 },
 "nbformat": 4,
 "nbformat_minor": 4
}
