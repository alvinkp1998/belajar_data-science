{
 "cells": [
  {
   "cell_type": "code",
   "execution_count": 1,
   "metadata": {},
   "outputs": [
    {
     "name": "stdout",
     "output_type": "stream",
     "text": [
      "Requirement already satisfied: nltk in /home/naufalabdila/miniconda3/envs/jlml/lib/python3.7/site-packages (3.5)\n",
      "Requirement already satisfied: click in /home/naufalabdila/miniconda3/envs/jlml/lib/python3.7/site-packages (from nltk) (7.1.2)\n",
      "Requirement already satisfied: tqdm in /home/naufalabdila/miniconda3/envs/jlml/lib/python3.7/site-packages (from nltk) (4.41.1)\n",
      "Requirement already satisfied: joblib in /home/naufalabdila/miniconda3/envs/jlml/lib/python3.7/site-packages (from nltk) (0.16.0)\n",
      "Requirement already satisfied: regex in /home/naufalabdila/miniconda3/envs/jlml/lib/python3.7/site-packages (from nltk) (2020.7.14)\n"
     ]
    }
   ],
   "source": [
    "!pip install nltk"
   ]
  },
  {
   "cell_type": "code",
   "execution_count": 2,
   "metadata": {},
   "outputs": [
    {
     "name": "stderr",
     "output_type": "stream",
     "text": [
      "[nltk_data] Downloading package stopwords to\n",
      "[nltk_data]     /home/naufalabdila/nltk_data...\n",
      "[nltk_data]   Package stopwords is already up-to-date!\n",
      "[nltk_data] Downloading package punkt to\n",
      "[nltk_data]     /home/naufalabdila/nltk_data...\n",
      "[nltk_data]   Package punkt is already up-to-date!\n"
     ]
    },
    {
     "data": {
      "text/plain": [
       "True"
      ]
     },
     "execution_count": 2,
     "metadata": {},
     "output_type": "execute_result"
    }
   ],
   "source": [
    "import nltk\n",
    "nltk.download('stopwords')\n",
    "nltk.download('punkt')"
   ]
  },
  {
   "cell_type": "code",
   "execution_count": 3,
   "metadata": {},
   "outputs": [],
   "source": [
    "from nltk.tokenize import word_tokenize, sent_tokenize\n",
    "from nltk.corpus import stopwords\n",
    "from string import punctuation"
   ]
  },
  {
   "cell_type": "code",
   "execution_count": 4,
   "metadata": {},
   "outputs": [],
   "source": [
    "text = 'Halo, nama saya Naufal Abdila. Kemarin saya makan bakso Rp 15.000'"
   ]
  },
  {
   "cell_type": "markdown",
   "metadata": {},
   "source": [
    "#  Normalisasi\n",
    "\n",
    "Normalisasi adalah kita merubah teks either sebagai lowercase atau sebagai uppercase. <br>\n",
    "Contoh:<br>\n",
    "\n",
    "\"ada\" dari sisi mesin itu beda dengan \"ADA\"\n",
    "\n",
    "Penggunaan preprocessing normalisasi digunakan tergantung kebutuhan. Jika kita ingin melakuka sentiment analysis mungkin kita tidak perlu melakukan normalisasi."
   ]
  },
  {
   "cell_type": "code",
   "execution_count": 6,
   "metadata": {},
   "outputs": [
    {
     "data": {
      "text/plain": [
       "'halo, nama saya naufal abdila. kemarin saya makan bakso rp 15.000'"
      ]
     },
     "execution_count": 6,
     "metadata": {},
     "output_type": "execute_result"
    }
   ],
   "source": [
    "text = text.lower()\n",
    "text"
   ]
  },
  {
   "cell_type": "markdown",
   "metadata": {},
   "source": [
    "# Tokenize "
   ]
  },
  {
   "cell_type": "markdown",
   "metadata": {},
   "source": [
    "Memenggal data teks per kata atau per kalimat."
   ]
  },
  {
   "cell_type": "code",
   "execution_count": 7,
   "metadata": {},
   "outputs": [
    {
     "data": {
      "text/plain": [
       "['halo, nama saya naufal abdila.', 'kemarin saya makan bakso rp 15.000']"
      ]
     },
     "execution_count": 7,
     "metadata": {},
     "output_type": "execute_result"
    }
   ],
   "source": [
    "sent_tokenize(text)"
   ]
  },
  {
   "cell_type": "code",
   "execution_count": 8,
   "metadata": {},
   "outputs": [
    {
     "data": {
      "text/plain": [
       "['halo',\n",
       " ',',\n",
       " 'nama',\n",
       " 'saya',\n",
       " 'naufal',\n",
       " 'abdila',\n",
       " '.',\n",
       " 'kemarin',\n",
       " 'saya',\n",
       " 'makan',\n",
       " 'bakso',\n",
       " 'rp',\n",
       " '15.000']"
      ]
     },
     "execution_count": 8,
     "metadata": {},
     "output_type": "execute_result"
    }
   ],
   "source": [
    "word_tokenize(text)"
   ]
  },
  {
   "cell_type": "code",
   "execution_count": 9,
   "metadata": {},
   "outputs": [],
   "source": [
    "tokens = word_tokenize(text)"
   ]
  },
  {
   "cell_type": "markdown",
   "metadata": {},
   "source": [
    "# Punctuation removal "
   ]
  },
  {
   "cell_type": "markdown",
   "metadata": {},
   "source": [
    "Punctuation adalah tanda baca"
   ]
  },
  {
   "cell_type": "code",
   "execution_count": 10,
   "metadata": {},
   "outputs": [
    {
     "data": {
      "text/plain": [
       "'!\"#$%&\\'()*+,-./:;<=>?@[\\\\]^_`{|}~'"
      ]
     },
     "execution_count": 10,
     "metadata": {},
     "output_type": "execute_result"
    }
   ],
   "source": [
    "punctuation"
   ]
  },
  {
   "cell_type": "code",
   "execution_count": 11,
   "metadata": {},
   "outputs": [
    {
     "data": {
      "text/plain": [
       "'!'"
      ]
     },
     "execution_count": 11,
     "metadata": {},
     "output_type": "execute_result"
    }
   ],
   "source": [
    "# data berbentuk string dapat kita indexing seperti data list\n",
    "punctuation[0]"
   ]
  },
  {
   "cell_type": "code",
   "execution_count": 16,
   "metadata": {},
   "outputs": [
    {
     "data": {
      "text/plain": [
       "['halo',\n",
       " ',',\n",
       " 'nama',\n",
       " 'saya',\n",
       " 'naufal',\n",
       " 'abdila',\n",
       " '.',\n",
       " 'kemarin',\n",
       " 'saya',\n",
       " 'makan',\n",
       " 'bakso',\n",
       " 'rp',\n",
       " '15.000']"
      ]
     },
     "execution_count": 16,
     "metadata": {},
     "output_type": "execute_result"
    }
   ],
   "source": [
    "tokens"
   ]
  },
  {
   "cell_type": "code",
   "execution_count": 14,
   "metadata": {},
   "outputs": [],
   "source": [
    "words = []\n",
    "for token in tokens:\n",
    "    if token not in punctuation:\n",
    "        words.append(token)"
   ]
  },
  {
   "cell_type": "code",
   "execution_count": 17,
   "metadata": {},
   "outputs": [],
   "source": [
    "# list comprehension way\n",
    "words_2 = [token for token in tokens if token not in punctuation]"
   ]
  },
  {
   "cell_type": "code",
   "execution_count": 18,
   "metadata": {},
   "outputs": [
    {
     "data": {
      "text/plain": [
       "['halo',\n",
       " 'nama',\n",
       " 'saya',\n",
       " 'naufal',\n",
       " 'abdila',\n",
       " 'kemarin',\n",
       " 'saya',\n",
       " 'makan',\n",
       " 'bakso',\n",
       " 'rp',\n",
       " '15.000']"
      ]
     },
     "execution_count": 18,
     "metadata": {},
     "output_type": "execute_result"
    }
   ],
   "source": [
    "words_2"
   ]
  },
  {
   "cell_type": "markdown",
   "metadata": {},
   "source": [
    "# Stopwords Removal "
   ]
  },
  {
   "cell_type": "code",
   "execution_count": 22,
   "metadata": {},
   "outputs": [],
   "source": [
    "stop_id = stopwords.words('indonesian')"
   ]
  },
  {
   "cell_type": "code",
   "execution_count": 23,
   "metadata": {},
   "outputs": [],
   "source": [
    "clean = []\n",
    "for word in words:\n",
    "    if word not in stop_id:\n",
    "        clean.append(word)"
   ]
  },
  {
   "cell_type": "code",
   "execution_count": 24,
   "metadata": {},
   "outputs": [
    {
     "data": {
      "text/plain": [
       "['halo',\n",
       " 'nama',\n",
       " 'naufal',\n",
       " 'abdila',\n",
       " 'kemarin',\n",
       " 'makan',\n",
       " 'bakso',\n",
       " 'rp',\n",
       " '15.000']"
      ]
     },
     "execution_count": 24,
     "metadata": {},
     "output_type": "execute_result"
    }
   ],
   "source": [
    "# hasil dari stop words removal adalah kita menghilangkan kata 'saya'\n",
    "clean"
   ]
  },
  {
   "cell_type": "markdown",
   "metadata": {},
   "source": [
    "# More advanced preprocessing\n",
    "\n",
    "Oleh sebab itu kita melakukan:\n",
    "- normalisasi: menghindari 2 hal yang maknanya sama seperti `Saya` dan `saya`\n",
    "- tokenisasi: menghindari token yang tidak diproses dengan baik misalnya `halo,` atau `ini?`\n",
    "\n",
    "Lebih jauh lagi akan ada teknik pemrosesan seperti:\n",
    "- stemming: menghindari kesamaan makna karena imbuhan seperti `pukul` dan `memukul`\n",
    "- lematisasi: mengembalikan kata ke bentuk dasarnya seperti `jum'at` menjadi `jumat`\n",
    "\n",
    "package yang terkenal untuk stemming bahasa Indonesia: Sastrawi, SpaCy<br>\n",
    "package yang terkenal untuk lematisasi bahasa Indonesia: SpaCy"
   ]
  }
 ],
 "metadata": {
  "kernelspec": {
   "display_name": "Python [conda env:jlml]",
   "language": "python",
   "name": "conda-env-jlml-py"
  },
  "language_info": {
   "codemirror_mode": {
    "name": "ipython",
    "version": 3
   },
   "file_extension": ".py",
   "mimetype": "text/x-python",
   "name": "python",
   "nbconvert_exporter": "python",
   "pygments_lexer": "ipython3",
   "version": "3.7.6"
  }
 },
 "nbformat": 4,
 "nbformat_minor": 4
}
