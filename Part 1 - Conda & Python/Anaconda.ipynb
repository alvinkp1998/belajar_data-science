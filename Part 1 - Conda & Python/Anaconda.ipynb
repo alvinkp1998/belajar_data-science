{
 "cells": [
  {
   "cell_type": "markdown",
   "metadata": {},
   "source": [
    "## Introduction"
   ]
  },
  {
   "cell_type": "markdown",
   "metadata": {},
   "source": [
    "[Anaconda](https://www.anaconda.com/products/individual#download-section) makes it easy to manage python versions, packages in a contained environments. This will help if we have to deal with multiple projects. Anaconda itself is a distribution that comes with `conda`. \n",
    "\n",
    "While `conda`, is just a package manager like `npm` in [node.js](https://nodejs.org/en/) or `gem` in ruby. They offer more than 150 scientific packages and faily large (~500 MB) download. If we don't need all those packages, we can just install **Miniconda**, which is a lot smaller and only consist of Python and `conda`, minus the packages. \n",
    "\n",
    "When you already installed conda, it will be available in the command line (terminal) or command prompt in Windows. If you already have python pre-installed in Unix/Linux, don't worry! Installing miniconda will just tell the system to use the Python from miniconda installation directory. "
   ]
  },
  {
   "cell_type": "markdown",
   "metadata": {},
   "source": [
    "## Managing Packages\n",
    "\n",
    "`Conda` are similar with pip, if you have used pip in the past. All package managers are used to install libraries or **dependencies** in your computer. But `conda` are not just Python packages, it also install non-Python packages! This means, it is a package manager for *any* software stack. Unfortunately, not all packages available from Anaconda distribution, you will still need pip alongside to install these packages.\n",
    "\n",
    "The packages that comes along with `conda` are precompiled. Which mean if you install Numpy, Scipy or Scikit-learn, they will be compiled with [MKL Library](https://docs.continuum.io/mkl-optimizations/), which optimizes various math operations on intel processor. Because this needs to be build, sometimes `conda` packages lags behind pip (but usually more stable).\n",
    "\n",
    "![env](assets/env.png)"
   ]
  },
  {
   "cell_type": "markdown",
   "metadata": {},
   "source": [
    "## Environments\n",
    "\n",
    "Environments are specific folder that is made when you run `$ conda create -n env` or `conda env create -f environment.yml` in this workshop. It is similar with [venv](https://virtualenv.pypa.io/en/stable/). They allow you to isolate packages from different projects. For example if you built the project using old version of Numpy, then to run your code you need that specific version. Since, it's impossible to have two different version of Numpy in the same Python, we have separate environments. \n",
    "\n",
    "The list of packages also can be exported into a file, then this can help with anyone to try out your code. Using conda just type this into the command line `$ conda env export > environment.yaml`. Pip has similar functionality with `$ pip freeze > requirements.txt` "
   ]
  }
 ],
 "metadata": {
  "kernelspec": {
   "display_name": "Python 3",
   "language": "python",
   "name": "python3"
  },
  "language_info": {
   "codemirror_mode": {
    "name": "ipython",
    "version": 3
   },
   "file_extension": ".py",
   "mimetype": "text/x-python",
   "name": "python",
   "nbconvert_exporter": "python",
   "pygments_lexer": "ipython3",
   "version": "3.7.7"
  }
 },
 "nbformat": 4,
 "nbformat_minor": 4
}
