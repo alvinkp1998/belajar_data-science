{
 "cells": [
  {
   "cell_type": "markdown",
   "metadata": {},
   "source": [
    "**Data Analyst** use data to answer question\n",
    "\n",
    "- What characteristic make a tumor more likely to be cancer?\n",
    "- How much car model improve since 2008, and which vehicle improve the most?\n",
    "- How does wine quality vary by type, alcohol content, acidity level, and much more?\n",
    "\n",
    "Use Data Science tools: \n",
    "- `NumPy`\n",
    "- `Pandas`\n",
    "- `Matplotlib`\n",
    "\n",
    "**Use cases in industries**\n",
    "\n",
    "- Netflix used data analyst to provide personalized movie recommendation\n",
    "- [Facebook](https://research.fb.com/exposure-to-diverse-information-on-facebook-2/) used it in Newsfeed Ranking Algorithm\n",
    "- Wallmart uses Big Data to increase sales \n",
    "- [Bill James](https://en.wikipedia.org/wiki/Bill_James) used data analysis on Baseball, to see who the top performers and predict future performance\n",
    "- [Pharmaceutical company](http://www.numerate.com/numerates-ranking-technology-pharmaceutical-rd-gains-u-s-patent/) use Machine Learning which chemical compound are more likely to be effective drug\n",
    "\n",
    "**Overview**\n",
    "- `Question`  \n",
    "   Always start with questions (either have data or not)\n",
    "  - What I'm trying to find out?\n",
    "  - Problems to solve? \n",
    "  - Different forms of data, the right questions will give direction (not analyzed all parts) and give meaningfull insights\n",
    "  \n",
    "- `Wrangle`  \n",
    "  Make your data in a form that you can work with (**make your analysis possible**)  \n",
    "  Steps:\n",
    "  1. **Gather**\n",
    "    - Already have? -> opening/importing it in Jupyter Notebook\n",
    "    - Don't have? -> what data will be most helpful and collect them\n",
    "  1. **Assess**  \n",
    "     Identify any problems in:\n",
    "     - Quality\n",
    "     - Structure\n",
    "  1. **Clean**\n",
    "     Modifying, replacing, or moving data\n",
    "1. `Explore`  \n",
    "    Exploratory Data Analysis (EDA) is exploring and augmenting your data to maximize your analysis\n",
    "    1. **Exploring**: finding patterns, visualizing relationship, and building intuition\n",
    "    1. **Augment**\n",
    "       - remove outliers\n",
    "       - create new descriptive variable (Feature Engineering)\n",
    "1. `Conclusions`  \n",
    "   Draw conclusions or make predictions\n",
    "   1. **Machine Learning**\n",
    "   1. **Inferential Statistics**\n",
    "   1. **Descriptive Statistics**\n",
    "1. `Communicate`  \n",
    "   Analysis only valuable if it's communicated!\n",
    "   1. **Actionable insight**\n",
    "   1. **Share**\n",
    "     - Reports\n",
    "     - Slide Decks\n",
    "     - Email\n",
    "     - Blog Post\n",
    "     - Conversation\n",
    "     - Github"
   ]
  },
  {
   "cell_type": "code",
   "execution_count": null,
   "metadata": {},
   "outputs": [],
   "source": []
  }
 ],
 "metadata": {
  "kernelspec": {
   "display_name": "Python [conda env:jlml]",
   "language": "python",
   "name": "conda-env-jlml-py"
  },
  "language_info": {
   "codemirror_mode": {
    "name": "ipython",
    "version": 3
   },
   "file_extension": ".py",
   "mimetype": "text/x-python",
   "name": "python",
   "nbconvert_exporter": "python",
   "pygments_lexer": "ipython3",
   "version": "3.7.6"
  }
 },
 "nbformat": 4,
 "nbformat_minor": 4
}
